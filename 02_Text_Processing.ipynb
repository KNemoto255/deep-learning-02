{
 "cells": [
  {
   "cell_type": "code",
   "execution_count": null,
   "id": "7ead7ba5",
   "metadata": {},
   "outputs": [],
   "source": [
    "\"\"\"\n",
    "自然言語と単語の分散表現\n",
    "\n",
    "コンピューターが機械言語ではない、人間の言語を理解するにはどのようなモデル・アルゴリズムを考えればいいか\n",
    "という本質的な問題を考える。まずテキストをPythonで扱えるようにする他、テキストを単語に分割・単語を単語IDに変換する処理を覚える\n",
    "\n",
    "自然言語の難しさは、プログラミング言語と違い曖昧さ・コンテキスト・同じ文章での意味の違い等々の「柔らかさ」を\n",
    "データ化することが難しいことにある。この柔らかさが、人が適当かつ迅速な思考・行動をすることを可能にしている。\n",
    "\n",
    "言語はまず文字によって構成され、言葉の意味は単語によって構成される。自然言語をコンピューターで扱いには、\n",
    "「単語の意味」を何らかの方法でデータ化する必要がある。\n",
    "これまでに単語の意味を表現するには、シソーラス・カウントべース・推論べ―ス(word2vec)という手法が考案されている。\n",
    "今回はカウントベース、推論ベースの手法を実装する\n",
    "\"\"\"\n",
    "\n",
    "\"\"\"\n",
    "テキストデータを扱うには、まずテキストの集まりであるコーパスが必要。\n",
    "コーパスにはテキストの本質である「意味」や「知識」といった、単なる文字の集まりではないデータが含まれている、と見做す\n",
    "ことができる\n",
    "\n",
    "まず、テキストをデータに変換する方法を考える\n",
    "\"\"\""
   ]
  },
  {
   "cell_type": "code",
   "execution_count": 1,
   "id": "9a6db07c",
   "metadata": {},
   "outputs": [
    {
     "name": "stdout",
     "output_type": "stream",
     "text": [
      "テキスト\n",
      "you say goodbye and i say hello.\n",
      "空白区切り\n",
      "['you', 'say', 'goodbye', 'and', 'i', 'say', 'hello.']\n",
      "単語＋単語ID\n",
      "{'you': 0, 'say': 1, 'goodbye': 2, 'and': 3, 'i': 4, 'hello.': 5}\n",
      "{0: 'you', 1: 'say', 2: 'goodbye', 3: 'and', 4: 'i', 5: 'hello.'}\n",
      "コーパス\n",
      "[0 1 2 3 4 1 5]\n"
     ]
    }
   ],
   "source": [
    "#テキストを全て小文字に＋ピリオドを正規化する\n",
    "text = \"You say goodbye and I say hello.\"\n",
    "text = text.lower()\n",
    "text = text.replace(\",\", \" ,\")\n",
    "\n",
    "print(\"テキスト\")\n",
    "print(text)\n",
    "\n",
    "#空白で区切る\n",
    "words = text.split(\" \")\n",
    "print(\"空白区切り\")\n",
    "print(words)\n",
    "\n",
    "#単語をインデックスを対応させる\n",
    "word_to_id = {}\n",
    "id_to_word = {}\n",
    "\n",
    "for word in words:\n",
    "    if word not in word_to_id:\n",
    "        new_id = len(word_to_id)\n",
    "        word_to_id[word] = new_id\n",
    "        id_to_word[new_id] = word\n",
    "\n",
    "print(\"単語＋単語ID\")\n",
    "print(word_to_id)\n",
    "print(id_to_word)\n",
    "\n",
    "#文章を単語から単語のID=コーパスに変換する\n",
    "import numpy as np\n",
    "corpus = [word_to_id[w] for w in words]\n",
    "corpus = np.array(corpus)\n",
    "\n",
    "print(\"コーパス\")\n",
    "print(corpus)"
   ]
  },
  {
   "cell_type": "code",
   "execution_count": 2,
   "id": "cd059910",
   "metadata": {},
   "outputs": [
    {
     "data": {
      "text/plain": [
       "'\\nテキストを処理してコーパスのリスト・{単語：単語ID}の辞書データに変換する関数\\n'"
      ]
     },
     "execution_count": 2,
     "metadata": {},
     "output_type": "execute_result"
    }
   ],
   "source": [
    "\"\"\"\n",
    "テキストを処理してコーパスのリスト・{単語：単語ID}の辞書データに変換する関数\n",
    "\"\"\""
   ]
  },
  {
   "cell_type": "code",
   "execution_count": 3,
   "id": "931e44da",
   "metadata": {},
   "outputs": [
    {
     "name": "stdout",
     "output_type": "stream",
     "text": [
      "テキスト\n",
      "You say goodbye and I say hello.\n",
      "コーパス\n",
      "[0 1 2 3 4 1 5 6]\n"
     ]
    }
   ],
   "source": [
    "import numpy as np\n",
    "def preprocess(text):\n",
    "    text = text.lower()\n",
    "    text = text.replace('.', ' .')\n",
    "    words = text.split(' ')\n",
    "\n",
    "    word_to_id = {}\n",
    "    id_to_word = {}\n",
    "    for word in words:\n",
    "        if word not in word_to_id:\n",
    "            new_id = len(word_to_id)\n",
    "            word_to_id[word] = new_id\n",
    "            id_to_word[new_id] = word\n",
    "\n",
    "    corpus = np.array([word_to_id[w] for w in words])\n",
    "\n",
    "    return corpus, word_to_id, id_to_word\n",
    "\n",
    "text = \"You say goodbye and I say hello.\"\n",
    "corpus, word_to_id, id_to_word = preprocess(text)\n",
    "\n",
    "print(\"テキスト\")\n",
    "print(text)\n",
    "print(\"コーパス\")\n",
    "print(corpus)"
   ]
  },
  {
   "cell_type": "code",
   "execution_count": null,
   "id": "0ba2a521",
   "metadata": {},
   "outputs": [],
   "source": [
    "\"\"\"\n",
    "単語の分散表現\n",
    "コンピューターでは、色をRGB - 3成分のベクトルのデータとして処理する。\n",
    "色をデジタル化できるのと同様、「単語の意味」をベクトルデータ化（単語の分散表現）にできないか考える。\n",
    "\n",
    "言語に関する仮説\n",
    "生成文法 - 人間は言語の初期状態である普遍文法（Universal grammar)を生得的に備えている\n",
    "文章は句構造文法となっていて、音と意味の結びつき・二語以上の語からなる統語構造などから成る\n",
    "\n",
    "言語的相対論、サピア＝ウォーフの仮説 - 言語はその話者の世界観の形成に関与する。使用できる言語によってその個人の思考が影響を受ける\n",
    "\n",
    "シニフィアンとシニフィエ:シーニュ - テキストは語のもつ感覚的側面：シニフィアンとシニフィアンによって意味されるイメージ、意味：シニフィエに分かれている。\n",
    "シニフィアンとシニフィエの対がシーニュ：記号であり、言語や記号表現を成立させるための最小単位となる\n",
    "\n",
    "分布仮説 - 単語の意味は、その単語の周囲の単語によって形成される。テキストが厳密な句構造文法やの思考との相関関係・シーニュである必然性はない\n",
    "単語自体には意味がなく、その単語の組み合わせとコンテキストによって単語の意味が形成される\n",
    "\"\"\""
   ]
  },
  {
   "cell_type": "code",
   "execution_count": 4,
   "id": "ca48fefa",
   "metadata": {},
   "outputs": [
    {
     "name": "stdout",
     "output_type": "stream",
     "text": [
      "テキスト\n",
      "You say goodbye and I say hello.\n",
      "コーパス\n",
      "[0 1 2 3 4 1 5 6]\n"
     ]
    }
   ],
   "source": [
    "import sys\n",
    "import numpy as np\n",
    "from common.util import preprocess\n",
    "\n",
    "text = \"You say goodbye and I say hello.\"\n",
    "corpus, word_to_id, id_to_word = preprocess(text)\n",
    "\n",
    "print(\"テキスト\")\n",
    "print(text)\n",
    "print(\"コーパス\")\n",
    "print(corpus)\n"
   ]
  },
  {
   "cell_type": "code",
   "execution_count": 9,
   "id": "216bfd34",
   "metadata": {},
   "outputs": [],
   "source": [
    "\"\"\"\n",
    "単語の周囲にどれだけ単語が出現するかをカウントすると、その単語のデータをベクトルかできる。\n",
    "単語のベクトル・単語の出現数を合わせた行列を、共起行列という。\n",
    "単語がベクトルできたら、そのコサイン類似度を比較する。\n",
    "\"\"\"\n",
    "#コーパスから共起行列を作成\n",
    "def create_co_matrix(corpus, vocab_size, window_size=1):\n",
    "    '''共起行列の作成\n",
    "    :param corpus: コーパス（単語IDのリスト）\n",
    "    :param vocab_size:語彙数\n",
    "    :param window_size:ウィンドウサイズ（ウィンドウサイズが1のときは、単語の左右1単語がコンテキスト）\n",
    "    :return: 共起行列\n",
    "    '''\n",
    "    corpus_size = len(corpus)\n",
    "    co_matrix = np.zeros((vocab_size, vocab_size), dtype=np.int32)\n",
    "\n",
    "    for idx, word_id in enumerate(corpus):\n",
    "        for i in range(1, window_size + 1):\n",
    "            left_idx = idx - i\n",
    "            right_idx = idx + i\n",
    "\n",
    "            if left_idx >= 0:\n",
    "                left_word_id = corpus[left_idx]\n",
    "                co_matrix[word_id, left_word_id] += 1\n",
    "\n",
    "            if right_idx < corpus_size:\n",
    "                right_word_id = corpus[right_idx]\n",
    "                co_matrix[word_id, right_word_id] += 1\n",
    "\n",
    "    return co_matrix\n",
    "\n",
    "#コサイン類似度を比較\n",
    "def cos_similarity(x, y, eps=1e-8):\n",
    "    '''コサイン類似度の算出\n",
    "    :param x: ベクトル\n",
    "    :param y: ベクトル\n",
    "    :param eps: ”0割り”防止のための微小値\n",
    "    :return:\n",
    "    '''\n",
    "    nx = x / (np.sqrt(np.sum(x ** 2)) + eps)\n",
    "    ny = y / (np.sqrt(np.sum(y ** 2)) + eps)\n",
    "    return np.dot(nx, ny)"
   ]
  },
  {
   "cell_type": "code",
   "execution_count": 15,
   "id": "62c4a82c",
   "metadata": {},
   "outputs": [
    {
     "name": "stdout",
     "output_type": "stream",
     "text": [
      "テキスト\n",
      "When I was 17, I read a quote that went something like: If you live each day as if it was your last, someday you’ll most certainly be right. It made an impression on me, and since then, for the past 33 years, I have looked in the mirror every morning and asked myself: “If today were the last day of my life, would I want to do what I am about to do today?” And whenever the answer has been “No” for too many days in a row, I know I need to change something.Remembering that I’ll be dead soon is the most important tool I’ve ever encountered to help me make the big choices in life. Because almost everything – all external expectations, all pride, all fear of embarrassment or failure – these things just fall away in the face of death, leaving only what is truly important. Remembering that you are going to die is the best way I know to avoid the trap of thinking you have something to lose. You are already naked. There is no reason not to follow your heart.\n",
      "コーパス\n",
      "[  0   1   2   3   1   4   5   6   7   8   9  10  11  12  13  14  15  16\n",
      "  11  17   2  18  19  20  21  22  23  24  25  26  17  27  28  29  30  31\n",
      "  32  33  34  35  36  37  38  39   1  40  41  42  36  43  44  45  32  46\n",
      "  47  48  49  50  36  51  15  52  53  54  55   1  56  57  58  59   1  60\n",
      "  61  57  58  62  32  63  36  64  65  66  67  35  68  69  70  42   5  71\n",
      "   1  72   1  73  57  74   9  75   7  76  24  77  78  79  36  22  80  81\n",
      "  82  83  84  57  85  86  87  36  88  89  42  90  26  91  92  93  94  95\n",
      "  96  97  95  98  95  99  52 100 101 102  94 103 104 105 106 107  42  36\n",
      " 108  52 109 110 111  59  79 112  80  26 113   7  12 114 115  57 116  79\n",
      "  36 117 118   1  72  57 119  36 120  52 121  12  40   9  57 122  26  12\n",
      " 114 123 124  26 125  79 126 127 128  57 129  18 130  26]\n",
      "0.0674199858893836\n"
     ]
    }
   ],
   "source": [
    "#コサイン類似度を求める\n",
    "import sys\n",
    "text = \"When I was 17, I read a quote that went something like: If you live each day as if it was your last, someday you’ll most certainly be right. It made an impression on me, and since then, for the past 33 years, I have looked in the mirror every morning and asked myself: “If today were the last day of my life, would I want to do what I am about to do today?” And whenever the answer has been “No” for too many days in a row, I know I need to change something.Remembering that I’ll be dead soon is the most important tool I’ve ever encountered to help me make the big choices in life. Because almost everything – all external expectations, all pride, all fear of embarrassment or failure – these things just fall away in the face of death, leaving only what is truly important. Remembering that you are going to die is the best way I know to avoid the trap of thinking you have something to lose. You are already naked. There is no reason not to follow your heart.\"\n",
    "\n",
    "corpus, word_to_id, id_to_word = preprocess(text)\n",
    "\n",
    "print(\"テキスト\")\n",
    "print(text)\n",
    "print(\"コーパス\")\n",
    "print(corpus)\n",
    "vocab_size = len(word_to_id)\n",
    "C = create_co_matrix(corpus, vocab_size)\n",
    "\n",
    "#youとiの単語ベクトルを求める\n",
    "c0 = C[word_to_id[\"i\"]]\n",
    "c1 = C[word_to_id[\"you\"]]\n",
    "\n",
    "#コサイン類似度を算出\n",
    "print(cos_similarity(c0, c1))"
   ]
  },
  {
   "cell_type": "code",
   "execution_count": 20,
   "id": "d88f53bf",
   "metadata": {},
   "outputs": [
    {
     "name": "stdout",
     "output_type": "stream",
     "text": [
      "\n",
      "[query]youと類似度の高い単語を算出します\n",
      " remembering: 0.4472135909234667\n",
      " already: 0.4472135909234667\n",
      " going: 0.4472135909234667\n",
      " it: 0.3162277634356991\n",
      " heart: 0.22360679546173334\n",
      " as: 0.22360679546173334\n",
      " i’ll: 0.22360679546173334\n",
      " each: 0.22360679546173334\n",
      " lose: 0.22360679546173334\n",
      " right: 0.22360679546173334\n",
      "\n",
      "[query]iと類似度の高い単語を算出します\n",
      " to: 0.25125945268689187\n",
      " a: 0.21320071483506142\n",
      " best: 0.15075567090146605\n",
      " 33: 0.15075567090146605\n",
      " only: 0.15075567090146605\n",
      " life,: 0.15075567090146605\n",
      " about: 0.15075567090146605\n",
      " looked: 0.15075567090146605\n",
      " 17,: 0.15075567090146605\n",
      " your: 0.10660035741753071\n"
     ]
    }
   ],
   "source": [
    "\"\"\"\n",
    "類似する単語をランキング順にする\n",
    "クエリを取り出す → コサイン類似度を算出する → コサイン類似度の高い順に出力する\n",
    "\"\"\"\n",
    "def most_similar(query, word_to_id, id_to_word, word_matrix, top=10):\n",
    "    if query not in word_to_id:\n",
    "        print('%s is not found' % query)\n",
    "        return\n",
    "\n",
    "    print(\"\\n[query]\" + query + \"と類似度の高い単語を算出します\")\n",
    "    query_id = word_to_id[query]\n",
    "    query_vec = word_matrix[query_id]\n",
    "\n",
    "    vocab_size = len(id_to_word)\n",
    "\n",
    "    similarity = np.zeros(vocab_size)\n",
    "    \n",
    "    #単語の数だけコサイン類似度を算出→リストに追加する\n",
    "    for i in range(vocab_size):\n",
    "        similarity[i] = cos_similarity(word_matrix[i], query_vec)\n",
    "\n",
    "    #argsortを使ってコサイン類似度順に並べる\n",
    "    count = 0\n",
    "    for i in (-1 * similarity).argsort():\n",
    "        if id_to_word[i] == query:\n",
    "            continue\n",
    "        print(' %s: %s' % (id_to_word[i], similarity[i]))\n",
    "\n",
    "        count += 1\n",
    "        if count >= top:\n",
    "            return\n",
    "\n",
    "most_similar(\"you\", word_to_id, id_to_word, C , top = 10)\n",
    "most_similar(\"i\", word_to_id, id_to_word, C , top = 10)"
   ]
  },
  {
   "cell_type": "code",
   "execution_count": 29,
   "id": "31a455ec",
   "metadata": {},
   "outputs": [
    {
     "name": "stdout",
     "output_type": "stream",
     "text": [
      "共起行列\n",
      "[[0 1 0 ... 0 0 0]\n",
      " [1 0 1 ... 0 0 0]\n",
      " [0 1 0 ... 0 0 0]\n",
      " ...\n",
      " [0 0 0 ... 0 0 0]\n",
      " [0 0 0 ... 0 0 0]\n",
      " [0 0 0 ... 0 0 0]]\n",
      "------------------------------\n",
      "相互情報量\n",
      "[[0.    4.592 0.    ... 0.    0.    0.   ]\n",
      " [4.592 0.    2.592 ... 0.    0.    0.   ]\n",
      " [0.    2.592 0.    ... 0.    0.    0.   ]\n",
      " ...\n",
      " [0.    0.    0.    ... 0.    0.    0.   ]\n",
      " [0.    0.    0.    ... 0.    0.    0.   ]\n",
      " [0.    0.    0.    ... 0.    0.    0.   ]]\n"
     ]
    }
   ],
   "source": [
    "def ppmi(C, verbose=False, eps = 1e-8):\n",
    "    #PPMIに変換するための空の行列を作る\n",
    "    M = np.zeros_like(C, dtype=np.float32)\n",
    "    N = np.sum(C)\n",
    "    S = np.sum(C, axis=0)\n",
    "    total = C.shape[0] * C.shape[1]\n",
    "    cnt = 0\n",
    "\n",
    "    #共起回数をPPMIに変換する\n",
    "    for i in range(C.shape[0]):\n",
    "        for j in range(C.shape[1]):\n",
    "            pmi = np.log2(C[i, j] * N / (S[j]*S[i]) + eps)\n",
    "            M[i, j] = max(0, pmi)\n",
    "\n",
    "            if verbose:\n",
    "                cnt += 1\n",
    "                if cnt % (total//100 + 1) == 0:\n",
    "                    print('%.1f%% done' % (100*cnt/total))\n",
    "    return M\n",
    "\n",
    "import sys\n",
    "import numpy as np\n",
    "\n",
    "text = \"When I was 17, I read a quote that went something like: If you live each day as if it was your last, someday you’ll most certainly be right. It made an impression on me, and since then, for the past 33 years, I have looked in the mirror every morning and asked myself: “If today were the last day of my life, would I want to do what I am about to do today?” And whenever the answer has been “No” for too many days in a row, I know I need to change something.Remembering that I’ll be dead soon is the most important tool I’ve ever encountered to help me make the big choices in life. Because almost everything – all external expectations, all pride, all fear of embarrassment or failure – these things just fall away in the face of death, leaving only what is truly important. Remembering that you are going to die is the best way I know to avoid the trap of thinking you have something to lose. You are already naked. There is no reason not to follow your heart.\"\n",
    "corpus, word_to_id, id_to_word = preprocess(text)\n",
    "vocab_size = len(word_to_id)\n",
    "C = create_co_matrix(corpus, vocab_size)\n",
    "W = ppmi(C)\n",
    "\n",
    "#有効桁を3桁にする\n",
    "np.set_printoptions(precision=3)\n",
    "print(\"共起行列\")\n",
    "print(C)\n",
    "print(\"-\"*30)\n",
    "print(\"相互情報量\")\n",
    "print(W)"
   ]
  },
  {
   "cell_type": "code",
   "execution_count": 30,
   "id": "9c19c555",
   "metadata": {
    "scrolled": true
   },
   "outputs": [
    {
     "name": "stdout",
     "output_type": "stream",
     "text": [
      "共起行列\n",
      "[[0 1 0 ... 0 0 0]\n",
      " [1 0 1 ... 0 0 0]\n",
      " [0 1 0 ... 0 0 0]\n",
      " ...\n",
      " [0 0 0 ... 0 0 0]\n",
      " [0 0 0 ... 0 0 0]\n",
      " [0 0 0 ... 0 0 0]]\n",
      "相互情報量\n",
      "[[0.    4.592 0.    ... 0.    0.    0.   ]\n",
      " [4.592 0.    2.592 ... 0.    0.    0.   ]\n",
      " [0.    2.592 0.    ... 0.    0.    0.   ]\n",
      " ...\n",
      " [0.    0.    0.    ... 0.    0.    0.   ]\n",
      " [0.    0.    0.    ... 0.    0.    0.   ]\n",
      " [0.    0.    0.    ... 0.    0.    0.   ]]\n",
      "特異値分解後の値\n",
      "[[-7.339e-02 -1.526e-02  9.004e-02 ...  6.989e-01 -5.357e-02  8.844e-02]\n",
      " [-2.803e-01  5.294e-02 -3.045e-01 ... -1.843e-16  0.000e+00  0.000e+00]\n",
      " [-1.327e-01 -2.983e-02  4.245e-02 ...  1.303e-16 -5.031e-17  7.633e-17]\n",
      " ...\n",
      " [-8.396e-02  1.567e-02  1.097e-01 ...  1.682e-02 -4.052e-01  1.625e-01]\n",
      " [-9.807e-02  1.805e-02  1.254e-01 ... -1.242e-01 -2.270e-01 -2.333e-01]\n",
      " [-8.712e-02  8.327e-02  1.082e-01 ...  5.860e-02  2.274e-01  1.691e-01]]\n"
     ]
    }
   ],
   "source": [
    "\"\"\"\n",
    "単語の相互情報量を求めるとほぼすべてのベクトルが0となってしまうので、より有意義な情報に変換するために\n",
    "次元削減のアルゴリズムを使う。ここでは、特異値分解(Singular Value Decomposition)を用いる。\n",
    "SVDを行うには、Numpyのlinalgモジュール・svdメソッドを用いる。\n",
    "\"\"\"\n",
    "U,S,V = np.linalg.svd(W)\n",
    "np.set_printoptions(precision=3)\n",
    "print(\"共起行列\")\n",
    "print(C)\n",
    "print(\"相互情報量\")\n",
    "print(W)\n",
    "print(\"特異値分解後の値\")\n",
    "print(U)"
   ]
  },
  {
   "cell_type": "code",
   "execution_count": 32,
   "id": "9026a435",
   "metadata": {},
   "outputs": [
    {
     "name": "stdout",
     "output_type": "stream",
     "text": [
      "[[-0.073 -0.015]\n",
      " [-0.28   0.053]\n",
      " [-0.133 -0.03 ]\n",
      " [-0.1   -0.001]\n",
      " [-0.093 -0.037]\n",
      " [-0.113  0.071]\n",
      " [-0.079  0.015]\n",
      " [-0.151 -0.126]\n",
      " [-0.094  0.049]\n",
      " [-0.179 -0.03 ]\n",
      " [-0.087  0.049]\n",
      " [-0.112 -0.112]\n",
      " [-0.164  0.172]\n",
      " [-0.061 -0.073]\n",
      " [-0.049  0.058]\n",
      " [-0.081 -0.078]\n",
      " [-0.062  0.066]\n",
      " [-0.119  0.113]\n",
      " [-0.109 -0.037]\n",
      " [-0.047  0.03 ]\n",
      " [-0.032 -0.04 ]\n",
      " [-0.039  0.068]\n",
      " [-0.085 -0.146]\n",
      " [-0.052  0.088]\n",
      " [-0.078 -0.104]\n",
      " [-0.077  0.107]\n",
      " [-0.223 -0.27 ]\n",
      " [-0.046 -0.054]\n",
      " [-0.023  0.035]\n",
      " [-0.014 -0.03 ]\n",
      " [-0.014  0.038]\n",
      " [-0.023 -0.061]\n",
      " [-0.062  0.146]\n",
      " [-0.028 -0.08 ]\n",
      " [-0.029  0.082]\n",
      " [-0.056 -0.141]\n",
      " [-0.217  0.382]\n",
      " [-0.062 -0.106]\n",
      " [-0.052  0.059]\n",
      " [-0.077 -0.036]\n",
      " [-0.142 -0.071]\n",
      " [-0.081  0.09 ]\n",
      " [-0.136 -0.224]\n",
      " [-0.054 -0.115]\n",
      " [-0.031  0.08 ]\n",
      " [-0.029 -0.079]\n",
      " [-0.023 -0.065]\n",
      " [-0.014  0.045]\n",
      " [-0.015 -0.045]\n",
      " [-0.025  0.063]\n",
      " [-0.052 -0.108]\n",
      " [-0.068 -0.055]\n",
      " [-0.119  0.237]\n",
      " [-0.049 -0.089]\n",
      " [-0.046  0.051]\n",
      " [-0.075 -0.033]\n",
      " [-0.121 -0.007]\n",
      " [-0.31  -0.022]\n",
      " [-0.112  0.016]\n",
      " [-0.119  0.026]\n",
      " [-0.095 -0.017]\n",
      " [-0.099  0.012]\n",
      " [-0.053 -0.051]\n",
      " [-0.06  -0.128]\n",
      " [-0.052 -0.111]\n",
      " [-0.027  0.071]\n",
      " [-0.02  -0.06 ]\n",
      " [-0.025  0.074]\n",
      " [-0.028  0.079]\n",
      " [-0.028 -0.072]\n",
      " [-0.046  0.094]\n",
      " [-0.093 -0.037]\n",
      " [-0.113 -0.01 ]\n",
      " [-0.121 -0.007]\n",
      " [-0.115  0.014]\n",
      " [-0.094  0.049]\n",
      " [-0.068  0.076]\n",
      " [-0.047  0.026]\n",
      " [-0.059  0.026]\n",
      " [-0.157 -0.126]\n",
      " [-0.099  0.115]\n",
      " [-0.044 -0.052]\n",
      " [-0.032  0.028]\n",
      " [-0.042 -0.017]\n",
      " [-0.079  0.012]\n",
      " [-0.084 -0.015]\n",
      " [-0.055  0.048]\n",
      " [-0.063 -0.102]\n",
      " [-0.065 -0.131]\n",
      " [-0.06   0.119]\n",
      " [-0.088  0.135]\n",
      " [-0.064  0.091]\n",
      " [-0.03  -0.049]\n",
      " [-0.017  0.029]\n",
      " [-0.018 -0.024]\n",
      " [-0.024  0.045]\n",
      " [-0.011 -0.01 ]\n",
      " [-0.011 -0.01 ]\n",
      " [-0.008 -0.017]\n",
      " [-0.038 -0.082]\n",
      " [-0.038 -0.084]\n",
      " [-0.019  0.038]\n",
      " [-0.013 -0.007]\n",
      " [-0.008  0.016]\n",
      " [-0.007 -0.017]\n",
      " [-0.01   0.026]\n",
      " [-0.02  -0.045]\n",
      " [-0.043  0.083]\n",
      " [-0.073 -0.15 ]\n",
      " [-0.045 -0.089]\n",
      " [-0.036  0.049]\n",
      " [-0.052 -0.029]\n",
      " [-0.073 -0.004]\n",
      " [-0.096  0.11 ]\n",
      " [-0.09  -0.053]\n",
      " [-0.092  0.024]\n",
      " [-0.104  0.041]\n",
      " [-0.074 -0.093]\n",
      " [-0.085  0.027]\n",
      " [-0.106 -0.077]\n",
      " [-0.073 -0.15 ]\n",
      " [-0.074 -0.118]\n",
      " [-0.116  0.075]\n",
      " [-0.057 -0.012]\n",
      " [-0.074  0.075]\n",
      " [-0.093  0.107]\n",
      " [-0.062  0.047]\n",
      " [-0.055 -0.026]\n",
      " [-0.084  0.016]\n",
      " [-0.098  0.018]\n",
      " [-0.087  0.083]]\n"
     ]
    }
   ],
   "source": [
    "print(U[0:, :2])"
   ]
  },
  {
   "cell_type": "code",
   "execution_count": 45,
   "id": "881b6f45",
   "metadata": {},
   "outputs": [
    {
     "data": {
      "image/png": "[encoded data removed]",
      "text/plain": [
       "<Figure size 432x288 with 1 Axes>"
      ]
     },
     "metadata": {
      "needs_background": "light"
     },
     "output_type": "display_data"
    },
    {
     "data": {
      "text/plain": [
       "<Figure size 1440x1440 with 0 Axes>"
      ]
     },
     "metadata": {},
     "output_type": "display_data"
    }
   ],
   "source": [
    "\"\"\"\n",
    "特異値分解後の各単語の先頭2行を抽出し、グラフにプロットする\n",
    "\"\"\"\n",
    "import matplotlib.pyplot as plt\n",
    "for word, word_id in word_to_id.items():\n",
    "    plt.annotate(word, (U[word_id, 0], U[word_id,1]))\n",
    "\n",
    "plt.scatter(U[:,0], U[:,5], alpha=0.5)\n",
    "plt.figure(figsize=(20,20))\n",
    "plt.show()"
   ]
  },
  {
   "cell_type": "code",
   "execution_count": 39,
   "id": "f76db303",
   "metadata": {},
   "outputs": [
    {
     "data": {
      "image/png": "[encoded data removed]",
      "text/plain": [
       "<Figure size 432x288 with 1 Axes>"
      ]
     },
     "metadata": {
      "needs_background": "light"
     },
     "output_type": "display_data"
    },
    {
     "data": {
      "text/plain": [
       "<Figure size 864x864 with 0 Axes>"
      ]
     },
     "metadata": {},
     "output_type": "display_data"
    }
   ],
   "source": []
  },
  {
   "cell_type": "code",
   "execution_count": null,
   "id": "f0e18df0",
   "metadata": {},
   "outputs": [],
   "source": []
  }
 ],
 "metadata": {
  "kernelspec": {
   "display_name": "Python 3 (ipykernel)",
   "language": "python",
   "name": "python3"
  },
  "language_info": {
   "codemirror_mode": {
    "name": "ipython",
    "version": 3
   },
   "file_extension": ".py",
   "mimetype": "text/x-python",
   "name": "python",
   "nbconvert_exporter": "python",
   "pygments_lexer": "ipython3",
   "version": "3.9.12"
  },
  "varInspector": {
   "cols": {
    "lenName": 16,
    "lenType": 16,
    "lenVar": 40
   },
   "kernels_config": {
    "python": {
     "delete_cmd_postfix": "",
     "delete_cmd_prefix": "del ",
     "library": "var_list.py",
     "varRefreshCmd": "print(var_dic_list())"
    },
    "r": {
     "delete_cmd_postfix": ") ",
     "delete_cmd_prefix": "rm(",
     "library": "var_list.r",
     "varRefreshCmd": "cat(var_dic_list()) "
    }
   },
   "types_to_exclude": [
    "module",
    "function",
    "builtin_function_or_method",
    "instance",
    "_Feature"
   ],
   "window_display": false
  }
 },
 "nbformat": 4,
 "nbformat_minor": 5
}
